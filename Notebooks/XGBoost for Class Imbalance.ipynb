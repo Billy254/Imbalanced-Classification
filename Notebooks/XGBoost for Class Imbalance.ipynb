{
 "cells": [
  {
   "cell_type": "markdown",
   "metadata": {},
   "source": [
    "## Extreme Gradient Boosting for Class Imbalance\n",
    "\n",
    "Kaggle CreditCard Fraud Detection Data can be downloaded here:\n",
    "https://github.com/nsethi31/Kaggle-Data-Credit-Card-Fraud-Detection/blob/master/creditcard.csv?raw=true"
   ]
  },
  {
   "cell_type": "code",
   "execution_count": null,
   "metadata": {},
   "outputs": [],
   "source": [
    "# In your command line issue this command:\n",
    "# conda install -c conda-forge xgboost"
   ]
  },
  {
   "cell_type": "code",
   "execution_count": 1,
   "metadata": {},
   "outputs": [
    {
     "name": "stdout",
     "output_type": "stream",
     "text": [
      "CPU times: user 2.63 s, sys: 542 ms, total: 3.17 s\n",
      "Wall time: 5.83 s\n"
     ]
    }
   ],
   "source": [
    "%%time\n",
    "import pandas as pd\n",
    "data = pd.read_csv('creditcard.csv')"
   ]
  },
  {
   "cell_type": "code",
   "execution_count": null,
   "metadata": {},
   "outputs": [],
   "source": [
    "data.head()"
   ]
  },
  {
   "cell_type": "code",
   "execution_count": null,
   "metadata": {},
   "outputs": [],
   "source": [
    "data.shape"
   ]
  },
  {
   "cell_type": "code",
   "execution_count": null,
   "metadata": {},
   "outputs": [],
   "source": [
    "data['Class'].value_counts()"
   ]
  },
  {
   "cell_type": "code",
   "execution_count": 2,
   "metadata": {},
   "outputs": [
    {
     "name": "stdout",
     "output_type": "stream",
     "text": [
      "CPU times: user 873 ms, sys: 334 ms, total: 1.21 s\n",
      "Wall time: 3.18 s\n"
     ]
    }
   ],
   "source": [
    "%%time\n",
    "# Split data into train and test splits\n",
    "\n",
    "from sklearn.model_selection import train_test_split\n",
    "\n",
    "# retrieve numpy array\n",
    "data = data.values\n",
    "# split into input and output elements\n",
    "X, y = data[:, 1:-1], data[:, -1]\n",
    "\n",
    "X_train, X_test, y_train, y_test = train_test_split(\n",
    "    X, y, test_size=0.33, random_state=42)"
   ]
  },
  {
   "cell_type": "code",
   "execution_count": 4,
   "metadata": {},
   "outputs": [
    {
     "name": "stdout",
     "output_type": "stream",
     "text": [
      "[[0.00000e+00 2.84315e+05]\n",
      " [1.00000e+00 4.92000e+02]]\n",
      "[[0.0000e+00 9.3838e+04]\n",
      " [1.0000e+00 1.4900e+02]]\n"
     ]
    }
   ],
   "source": [
    "# Count how many unique values of each class\n",
    "import numpy as np\n",
    "unique, counts = np.unique(y, return_counts=True)\n",
    "print (np.asarray((unique, counts)).T)\n",
    "\n",
    "unique, counts = np.unique(y_test, return_counts=True)\n",
    "print (np.asarray((unique, counts)).T)"
   ]
  },
  {
   "cell_type": "code",
   "execution_count": 5,
   "metadata": {},
   "outputs": [
    {
     "data": {
      "text/plain": [
       "array([93838,   149])"
      ]
     },
     "execution_count": 5,
     "metadata": {},
     "output_type": "execute_result"
    }
   ],
   "source": [
    "counts"
   ]
  },
  {
   "cell_type": "code",
   "execution_count": 3,
   "metadata": {},
   "outputs": [
    {
     "name": "stdout",
     "output_type": "stream",
     "text": [
      "[  0.50090037 278.16326531]\n"
     ]
    }
   ],
   "source": [
    "# calculate heuristic class weighting\n",
    "from sklearn.utils.class_weight import compute_class_weight\n",
    "\n",
    "# calculate class weighting according to training data\n",
    "weighting = compute_class_weight('balanced', [0,1], y_train)\n",
    "print(weighting)"
   ]
  },
  {
   "cell_type": "markdown",
   "metadata": {},
   "source": [
    "### For XGBoost:\n",
    "\n",
    "XGBoost is trained to minimize a loss function and the “gradient” in gradient boosting refers to the steepness of this loss function, e.g. the amount of error. A small gradient means a small error and, in turn, a small change to the model to correct the error. A large error gradient during training in turn results in a large correction.\n",
    "\n",
    "* *Small Gradient:* Small error or correction to the model\n",
    "* *Large Gradient:* Large error or correction to the model\n",
    "\n",
    "\n",
    "The **scale_pos_weight** value is used to scale the gradient for the positive class.\n",
    "\n",
    "\n",
    "By default, the scale_pos_weight hyperparameter is set to the value of 1.0 and has the effect of weighing the balance of positive examples, relative to negative examples when boosting decision trees. \n",
    "\n",
    "\n",
    "Scaling the gradient for the positive class has the effect of scaling errors made by the model during training on the positive class and encourages the model to over-correct them. In turn, this can help the model achieve better performance when making predictions on the positive class. \n",
    "\n",
    "\n"
   ]
  },
  {
   "cell_type": "markdown",
   "metadata": {},
   "source": [
    "#### Observe how the estimate value of scale_pos_weight is calculated"
   ]
  },
  {
   "cell_type": "code",
   "execution_count": 7,
   "metadata": {},
   "outputs": [
    {
     "name": "stdout",
     "output_type": "stream",
     "text": [
      "Estimate: 555.327\n",
      " ROC AUC = 0.913\n",
      "CPU times: user 2min 1s, sys: 2.65 s, total: 2min 3s\n",
      "Wall time: 2min 58s\n"
     ]
    }
   ],
   "source": [
    "%%time\n",
    "from sklearn.metrics import roc_auc_score\n",
    "from xgboost import XGBClassifier\n",
    "\n",
    "unique, counts = np.unique(y_train, return_counts=True)\n",
    "\n",
    "# estimate scale_pos_weight value\n",
    "estimate = counts[0] / counts[1]\n",
    "print('Estimate: %.3f' % estimate)\n",
    "\n",
    "# define model\n",
    "# try with and without scale_pos_weight\n",
    "#model = XGBClassifier(scale_pos_weight=estimate)\n",
    "model = XGBClassifier()\n",
    "# fit model\n",
    "model.fit(X_train, y_train)\n",
    "\n",
    "# evaluate model\n",
    "y_probs = model.predict(X_test)\n",
    "\n",
    "auc = roc_auc_score(y_test, y_probs)\n",
    "\n",
    "# summarize performance\n",
    "print(' ROC AUC = %.3f' % auc)"
   ]
  },
  {
   "cell_type": "code",
   "execution_count": null,
   "metadata": {},
   "outputs": [],
   "source": [
    "0.954\n",
    "0.913"
   ]
  }
 ],
 "metadata": {
  "kernelspec": {
   "display_name": "Python 3",
   "language": "python",
   "name": "python3"
  },
  "language_info": {
   "codemirror_mode": {
    "name": "ipython",
    "version": 3
   },
   "file_extension": ".py",
   "mimetype": "text/x-python",
   "name": "python",
   "nbconvert_exporter": "python",
   "pygments_lexer": "ipython3",
   "version": "3.7.6"
  }
 },
 "nbformat": 4,
 "nbformat_minor": 4
}
