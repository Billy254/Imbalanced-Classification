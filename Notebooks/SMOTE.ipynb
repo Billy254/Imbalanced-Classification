{
 "cells": [
  {
   "cell_type": "code",
   "execution_count": 1,
   "metadata": {},
   "outputs": [],
   "source": [
    "import pandas as pd"
   ]
  },
  {
   "cell_type": "code",
   "execution_count": 2,
   "metadata": {},
   "outputs": [],
   "source": [
    "data = pd.read_csv('ISCX_Botnet_Labelled.csv')"
   ]
  },
  {
   "cell_type": "code",
   "execution_count": 4,
   "metadata": {},
   "outputs": [
    {
     "data": {
      "text/html": [
       "<div>\n",
       "<style scoped>\n",
       "    .dataframe tbody tr th:only-of-type {\n",
       "        vertical-align: middle;\n",
       "    }\n",
       "\n",
       "    .dataframe tbody tr th {\n",
       "        vertical-align: top;\n",
       "    }\n",
       "\n",
       "    .dataframe thead th {\n",
       "        text-align: right;\n",
       "    }\n",
       "</style>\n",
       "<table border=\"1\" class=\"dataframe\">\n",
       "  <thead>\n",
       "    <tr style=\"text-align: right;\">\n",
       "      <th></th>\n",
       "      <th>Flow Duration</th>\n",
       "      <th>Flow Bytes/s</th>\n",
       "      <th>Flow Packets/s</th>\n",
       "      <th>Flow IAT Mean</th>\n",
       "      <th>Flow IAT Std</th>\n",
       "      <th>Flow IAT Max</th>\n",
       "      <th>Flow IAT Min</th>\n",
       "      <th>Fwd IAT Mean</th>\n",
       "      <th>Fwd IAT Std</th>\n",
       "      <th>Fwd IAT Max</th>\n",
       "      <th>...</th>\n",
       "      <th>Bwd IAT Min</th>\n",
       "      <th>Active Mean</th>\n",
       "      <th>Active Std</th>\n",
       "      <th>Active Max</th>\n",
       "      <th>Active Min</th>\n",
       "      <th>Idle Mean</th>\n",
       "      <th>Idle Std</th>\n",
       "      <th>Idle Max</th>\n",
       "      <th>Idle Min</th>\n",
       "      <th>BotNet_Label</th>\n",
       "    </tr>\n",
       "  </thead>\n",
       "  <tbody>\n",
       "    <tr>\n",
       "      <th>9977</th>\n",
       "      <td>1258880</td>\n",
       "      <td>133.451957</td>\n",
       "      <td>2.383071</td>\n",
       "      <td>629440.000000</td>\n",
       "      <td>525217.703862</td>\n",
       "      <td>1000825.0</td>\n",
       "      <td>258055.0</td>\n",
       "      <td>1.000825e+06</td>\n",
       "      <td>0.000000</td>\n",
       "      <td>1000825.0</td>\n",
       "      <td>...</td>\n",
       "      <td>0.0</td>\n",
       "      <td>0.0</td>\n",
       "      <td>0.0</td>\n",
       "      <td>0.0</td>\n",
       "      <td>0.0</td>\n",
       "      <td>0.0</td>\n",
       "      <td>0.0</td>\n",
       "      <td>0.0</td>\n",
       "      <td>0.0</td>\n",
       "      <td>Normal</td>\n",
       "    </tr>\n",
       "    <tr>\n",
       "      <th>9978</th>\n",
       "      <td>107449</td>\n",
       "      <td>0.000000</td>\n",
       "      <td>18.613482</td>\n",
       "      <td>107449.000000</td>\n",
       "      <td>0.000000</td>\n",
       "      <td>107449.0</td>\n",
       "      <td>107449.0</td>\n",
       "      <td>0.000000e+00</td>\n",
       "      <td>0.000000</td>\n",
       "      <td>0.0</td>\n",
       "      <td>...</td>\n",
       "      <td>0.0</td>\n",
       "      <td>0.0</td>\n",
       "      <td>0.0</td>\n",
       "      <td>0.0</td>\n",
       "      <td>0.0</td>\n",
       "      <td>0.0</td>\n",
       "      <td>0.0</td>\n",
       "      <td>0.0</td>\n",
       "      <td>0.0</td>\n",
       "      <td>Weasel Bot</td>\n",
       "    </tr>\n",
       "    <tr>\n",
       "      <th>9979</th>\n",
       "      <td>262360</td>\n",
       "      <td>228.693398</td>\n",
       "      <td>30.492453</td>\n",
       "      <td>37480.000000</td>\n",
       "      <td>51099.610745</td>\n",
       "      <td>121509.0</td>\n",
       "      <td>12.0</td>\n",
       "      <td>8.742833e+04</td>\n",
       "      <td>76123.002965</td>\n",
       "      <td>140488.0</td>\n",
       "      <td>...</td>\n",
       "      <td>87.0</td>\n",
       "      <td>0.0</td>\n",
       "      <td>0.0</td>\n",
       "      <td>0.0</td>\n",
       "      <td>0.0</td>\n",
       "      <td>0.0</td>\n",
       "      <td>0.0</td>\n",
       "      <td>0.0</td>\n",
       "      <td>0.0</td>\n",
       "      <td>Weasel Bot</td>\n",
       "    </tr>\n",
       "    <tr>\n",
       "      <th>9980</th>\n",
       "      <td>393</td>\n",
       "      <td>274809.160305</td>\n",
       "      <td>5089.058524</td>\n",
       "      <td>393.000000</td>\n",
       "      <td>0.000000</td>\n",
       "      <td>393.0</td>\n",
       "      <td>393.0</td>\n",
       "      <td>0.000000e+00</td>\n",
       "      <td>0.000000</td>\n",
       "      <td>0.0</td>\n",
       "      <td>...</td>\n",
       "      <td>0.0</td>\n",
       "      <td>0.0</td>\n",
       "      <td>0.0</td>\n",
       "      <td>0.0</td>\n",
       "      <td>0.0</td>\n",
       "      <td>0.0</td>\n",
       "      <td>0.0</td>\n",
       "      <td>0.0</td>\n",
       "      <td>0.0</td>\n",
       "      <td>Weasel Bot</td>\n",
       "    </tr>\n",
       "    <tr>\n",
       "      <th>9981</th>\n",
       "      <td>1142692</td>\n",
       "      <td>52.507587</td>\n",
       "      <td>7.001012</td>\n",
       "      <td>163241.714286</td>\n",
       "      <td>353820.104616</td>\n",
       "      <td>959744.0</td>\n",
       "      <td>21.0</td>\n",
       "      <td>3.808733e+05</td>\n",
       "      <td>582073.517884</td>\n",
       "      <td>1050985.0</td>\n",
       "      <td>...</td>\n",
       "      <td>104.0</td>\n",
       "      <td>0.0</td>\n",
       "      <td>0.0</td>\n",
       "      <td>0.0</td>\n",
       "      <td>0.0</td>\n",
       "      <td>0.0</td>\n",
       "      <td>0.0</td>\n",
       "      <td>0.0</td>\n",
       "      <td>0.0</td>\n",
       "      <td>Weasel Bot</td>\n",
       "    </tr>\n",
       "  </tbody>\n",
       "</table>\n",
       "<p>5 rows × 24 columns</p>\n",
       "</div>"
      ],
      "text/plain": [
       "      Flow Duration   Flow Bytes/s  Flow Packets/s  Flow IAT Mean  \\\n",
       "9977        1258880     133.451957        2.383071  629440.000000   \n",
       "9978         107449       0.000000       18.613482  107449.000000   \n",
       "9979         262360     228.693398       30.492453   37480.000000   \n",
       "9980            393  274809.160305     5089.058524     393.000000   \n",
       "9981        1142692      52.507587        7.001012  163241.714286   \n",
       "\n",
       "       Flow IAT Std  Flow IAT Max  Flow IAT Min  Fwd IAT Mean    Fwd IAT Std  \\\n",
       "9977  525217.703862     1000825.0      258055.0  1.000825e+06       0.000000   \n",
       "9978       0.000000      107449.0      107449.0  0.000000e+00       0.000000   \n",
       "9979   51099.610745      121509.0          12.0  8.742833e+04   76123.002965   \n",
       "9980       0.000000         393.0         393.0  0.000000e+00       0.000000   \n",
       "9981  353820.104616      959744.0          21.0  3.808733e+05  582073.517884   \n",
       "\n",
       "      Fwd IAT Max  ...  Bwd IAT Min  Active Mean  Active Std  Active Max  \\\n",
       "9977    1000825.0  ...          0.0          0.0         0.0         0.0   \n",
       "9978          0.0  ...          0.0          0.0         0.0         0.0   \n",
       "9979     140488.0  ...         87.0          0.0         0.0         0.0   \n",
       "9980          0.0  ...          0.0          0.0         0.0         0.0   \n",
       "9981    1050985.0  ...        104.0          0.0         0.0         0.0   \n",
       "\n",
       "      Active Min  Idle Mean  Idle Std  Idle Max  Idle Min  BotNet_Label  \n",
       "9977         0.0        0.0       0.0       0.0       0.0        Normal  \n",
       "9978         0.0        0.0       0.0       0.0       0.0    Weasel Bot  \n",
       "9979         0.0        0.0       0.0       0.0       0.0    Weasel Bot  \n",
       "9980         0.0        0.0       0.0       0.0       0.0    Weasel Bot  \n",
       "9981         0.0        0.0       0.0       0.0       0.0    Weasel Bot  \n",
       "\n",
       "[5 rows x 24 columns]"
      ]
     },
     "execution_count": 4,
     "metadata": {},
     "output_type": "execute_result"
    }
   ],
   "source": [
    "data.tail()"
   ]
  },
  {
   "cell_type": "code",
   "execution_count": 10,
   "metadata": {},
   "outputs": [],
   "source": [
    "#data[data['BotNet_Label'] == 'Zeus'].sample(n = 150, replace=True)"
   ]
  },
  {
   "cell_type": "code",
   "execution_count": null,
   "metadata": {},
   "outputs": [],
   "source": [
    "data.sample()"
   ]
  },
  {
   "cell_type": "code",
   "execution_count": 30,
   "metadata": {},
   "outputs": [
    {
     "data": {
      "text/plain": [
       "Normal          4918\n",
       "Weasel Bot      2127\n",
       "Virut           1367\n",
       "Neris            739\n",
       "Murlo            420\n",
       "Menti            163\n",
       "IRC              140\n",
       "Zero access       59\n",
       "TBot              23\n",
       "Black hole 2      14\n",
       "Zeus              12\n",
       "Name: BotNet_Label, dtype: int64"
      ]
     },
     "execution_count": 30,
     "metadata": {},
     "output_type": "execute_result"
    }
   ],
   "source": [
    "data['BotNet_Label'].value_counts()"
   ]
  },
  {
   "cell_type": "markdown",
   "metadata": {},
   "source": [
    "### SMOTE (Synthetic Minority Oversampling Technique) – Oversampling\n",
    "\n",
    "* It aims to balance class distribution by randomly increasing minority class examples by replicating them.\n",
    "* SMOTE synthesises new minority instances between existing minority instances. \n",
    "* It generates the virtual training records by linear interpolation for the minority class.\n",
    "* These synthetic training records are generated by randomly selecting one or more of the k-nearest neighbors for each example in the minority class. "
   ]
  },
  {
   "cell_type": "code",
   "execution_count": 25,
   "metadata": {},
   "outputs": [],
   "source": [
    "#!pip install -U imbalanced-learn"
   ]
  },
  {
   "cell_type": "code",
   "execution_count": 11,
   "metadata": {},
   "outputs": [
    {
     "name": "stderr",
     "output_type": "stream",
     "text": [
      "Using TensorFlow backend.\n"
     ]
    },
    {
     "name": "stdout",
     "output_type": "stream",
     "text": [
      "CPU times: user 5.53 s, sys: 1.71 s, total: 7.23 s\n",
      "Wall time: 33 s\n"
     ]
    }
   ],
   "source": [
    "%%time\n",
    "from imblearn.over_sampling import SMOTE \n",
    "sm = SMOTE(random_state = 2) \n",
    "# separate features from class variable\n",
    "y = data['BotNet_Label']\n",
    "X = data.drop('BotNet_Label', axis=1)\n",
    "\n",
    "new_data, y = sm.fit_sample(X, y.ravel())"
   ]
  },
  {
   "cell_type": "code",
   "execution_count": 12,
   "metadata": {},
   "outputs": [
    {
     "data": {
      "text/plain": [
       "Weasel Bot      4918\n",
       "TBot            4918\n",
       "Virut           4918\n",
       "Neris           4918\n",
       "Menti           4918\n",
       "Zeus            4918\n",
       "Murlo           4918\n",
       "Zero access     4918\n",
       "IRC             4918\n",
       "Black hole 2    4918\n",
       "Normal          4918\n",
       "Name: BotNet_Label, dtype: int64"
      ]
     },
     "execution_count": 12,
     "metadata": {},
     "output_type": "execute_result"
    }
   ],
   "source": [
    "new_data['BotNet_Label'] = y\n",
    "new_data['BotNet_Label'].value_counts()"
   ]
  },
  {
   "cell_type": "code",
   "execution_count": 13,
   "metadata": {},
   "outputs": [],
   "source": [
    "import imblearn.over_sampling"
   ]
  },
  {
   "cell_type": "code",
   "execution_count": 14,
   "metadata": {},
   "outputs": [
    {
     "data": {
      "text/plain": [
       "['ADASYN',\n",
       " 'BorderlineSMOTE',\n",
       " 'KMeansSMOTE',\n",
       " 'RandomOverSampler',\n",
       " 'SMOTE',\n",
       " 'SMOTENC',\n",
       " 'SVMSMOTE',\n",
       " '__all__',\n",
       " '__builtins__',\n",
       " '__cached__',\n",
       " '__doc__',\n",
       " '__file__',\n",
       " '__loader__',\n",
       " '__name__',\n",
       " '__package__',\n",
       " '__path__',\n",
       " '__spec__',\n",
       " '_adasyn',\n",
       " '_random_over_sampler',\n",
       " '_smote',\n",
       " 'base']"
      ]
     },
     "execution_count": 14,
     "metadata": {},
     "output_type": "execute_result"
    }
   ],
   "source": [
    "dir(imblearn.over_sampling)"
   ]
  },
  {
   "cell_type": "code",
   "execution_count": 17,
   "metadata": {},
   "outputs": [],
   "source": [
    "from imblearn.under_sampling import ClusterCentroids"
   ]
  },
  {
   "cell_type": "code",
   "execution_count": 16,
   "metadata": {},
   "outputs": [
    {
     "data": {
      "text/plain": [
       "['AllKNN',\n",
       " 'ClusterCentroids',\n",
       " 'CondensedNearestNeighbour',\n",
       " 'EditedNearestNeighbours',\n",
       " 'InstanceHardnessThreshold',\n",
       " 'NearMiss',\n",
       " 'NeighbourhoodCleaningRule',\n",
       " 'OneSidedSelection',\n",
       " 'RandomUnderSampler',\n",
       " 'RepeatedEditedNearestNeighbours',\n",
       " 'TomekLinks',\n",
       " '__all__',\n",
       " '__builtins__',\n",
       " '__cached__',\n",
       " '__doc__',\n",
       " '__file__',\n",
       " '__loader__',\n",
       " '__name__',\n",
       " '__package__',\n",
       " '__path__',\n",
       " '__spec__',\n",
       " '_prototype_generation',\n",
       " '_prototype_selection',\n",
       " 'base']"
      ]
     },
     "execution_count": 16,
     "metadata": {},
     "output_type": "execute_result"
    }
   ],
   "source": [
    "dir(imblearn.under_sampling)"
   ]
  },
  {
   "cell_type": "code",
   "execution_count": 18,
   "metadata": {},
   "outputs": [
    {
     "name": "stdout",
     "output_type": "stream",
     "text": [
      "Help on class ClusterCentroids in module imblearn.under_sampling._prototype_generation._cluster_centroids:\n",
      "\n",
      "class ClusterCentroids(imblearn.under_sampling.base.BaseUnderSampler)\n",
      " |  ClusterCentroids(sampling_strategy='auto', random_state=None, estimator=None, voting='auto', n_jobs=None)\n",
      " |  \n",
      " |  Undersample by generating centroids based on clustering methods.\n",
      " |  \n",
      " |  Method that under samples the majority class by replacing a\n",
      " |  cluster of majority samples by the cluster centroid of a KMeans\n",
      " |  algorithm.  This algorithm keeps N majority samples by fitting the\n",
      " |  KMeans algorithm with N cluster to the majority class and using\n",
      " |  the coordinates of the N cluster centroids as the new majority\n",
      " |  samples.\n",
      " |  \n",
      " |  Read more in the :ref:`User Guide <cluster_centroids>`.\n",
      " |  \n",
      " |  Parameters\n",
      " |  ----------\n",
      " |  sampling_strategy : float, str, dict, callable, default='auto'\n",
      " |      Sampling information to sample the data set.\n",
      " |  \n",
      " |      - When ``float``, it corresponds to the desired ratio of the number of\n",
      " |        samples in the minority class over the number of samples in the\n",
      " |        majority class after resampling. Therefore, the ratio is expressed as\n",
      " |        :math:`\\alpha_{us} = N_{m} / N_{rM}` where :math:`N_{m}` is the\n",
      " |        number of samples in the minority class and\n",
      " |        :math:`N_{rM}` is the number of samples in the majority class\n",
      " |        after resampling.\n",
      " |  \n",
      " |        .. warning::\n",
      " |           ``float`` is only available for **binary** classification. An\n",
      " |           error is raised for multi-class classification.\n",
      " |  \n",
      " |      - When ``str``, specify the class targeted by the resampling. The\n",
      " |        number of samples in the different classes will be equalized.\n",
      " |        Possible choices are:\n",
      " |  \n",
      " |          ``'majority'``: resample only the majority class;\n",
      " |  \n",
      " |          ``'not minority'``: resample all classes but the minority class;\n",
      " |  \n",
      " |          ``'not majority'``: resample all classes but the majority class;\n",
      " |  \n",
      " |          ``'all'``: resample all classes;\n",
      " |  \n",
      " |          ``'auto'``: equivalent to ``'not minority'``.\n",
      " |  \n",
      " |      - When ``dict``, the keys correspond to the targeted classes. The\n",
      " |        values correspond to the desired number of samples for each targeted\n",
      " |        class.\n",
      " |  \n",
      " |      - When callable, function taking ``y`` and returns a ``dict``. The keys\n",
      " |        correspond to the targeted classes. The values correspond to the\n",
      " |        desired number of samples for each class.\n",
      " |  \n",
      " |  random_state : int, RandomState instance, default=None\n",
      " |      Control the randomization of the algorithm.\n",
      " |  \n",
      " |      - If int, ``random_state`` is the seed used by the random number\n",
      " |        generator;\n",
      " |      - If ``RandomState`` instance, random_state is the random number\n",
      " |        generator;\n",
      " |      - If ``None``, the random number generator is the ``RandomState``\n",
      " |        instance used by ``np.random``.\n",
      " |  \n",
      " |  estimator : object, default=KMeans()\n",
      " |      Pass a :class:`sklearn.cluster.KMeans` estimator.\n",
      " |  \n",
      " |  voting : {\"hard\", \"soft\", \"auto\"}, default='auto'\n",
      " |      Voting strategy to generate the new samples:\n",
      " |  \n",
      " |      - If ``'hard'``, the nearest-neighbors of the centroids found using the\n",
      " |        clustering algorithm will be used.\n",
      " |      - If ``'soft'``, the centroids found by the clustering algorithm will\n",
      " |        be used.\n",
      " |      - If ``'auto'``, if the input is sparse, it will default on ``'hard'``\n",
      " |        otherwise, ``'soft'`` will be used.\n",
      " |  \n",
      " |      .. versionadded:: 0.3.0\n",
      " |  \n",
      " |  n_jobs : int, default=None\n",
      " |      Number of CPU cores used during the cross-validation loop.\n",
      " |      ``None`` means 1 unless in a :obj:`joblib.parallel_backend` context.\n",
      " |      ``-1`` means using all processors. See\n",
      " |      `Glossary <https://scikit-learn.org/stable/glossary.html#term-n-jobs>`_\n",
      " |      for more details.\n",
      " |  \n",
      " |  See Also\n",
      " |  --------\n",
      " |  EditedNearestNeighbours : Under-sampling by editing samples.\n",
      " |  \n",
      " |  CondensedNearestNeighbour: Under-sampling by condensing samples.\n",
      " |  \n",
      " |  Notes\n",
      " |  -----\n",
      " |  Supports multi-class resampling by sampling each class independently.\n",
      " |  \n",
      " |  Examples\n",
      " |  --------\n",
      " |  \n",
      " |  >>> from collections import Counter\n",
      " |  >>> from sklearn.datasets import make_classification\n",
      " |  >>> from imblearn.under_sampling import ClusterCentroids # doctest: +NORMALIZE_WHITESPACE\n",
      " |  >>> X, y = make_classification(n_classes=2, class_sep=2,\n",
      " |  ... weights=[0.1, 0.9], n_informative=3, n_redundant=1, flip_y=0,\n",
      " |  ... n_features=20, n_clusters_per_class=1, n_samples=1000, random_state=10)\n",
      " |  >>> print('Original dataset shape %s' % Counter(y))\n",
      " |  Original dataset shape Counter({1: 900, 0: 100})\n",
      " |  >>> cc = ClusterCentroids(random_state=42)\n",
      " |  >>> X_res, y_res = cc.fit_resample(X, y)\n",
      " |  >>> print('Resampled dataset shape %s' % Counter(y_res))\n",
      " |  ... # doctest: +ELLIPSIS\n",
      " |  Resampled dataset shape Counter({...})\n",
      " |  \n",
      " |  Method resolution order:\n",
      " |      ClusterCentroids\n",
      " |      imblearn.under_sampling.base.BaseUnderSampler\n",
      " |      imblearn.base.BaseSampler\n",
      " |      imblearn.base.SamplerMixin\n",
      " |      sklearn.base.BaseEstimator\n",
      " |      builtins.object\n",
      " |  \n",
      " |  Methods defined here:\n",
      " |  \n",
      " |  __init__(self, sampling_strategy='auto', random_state=None, estimator=None, voting='auto', n_jobs=None)\n",
      " |      Initialize self.  See help(type(self)) for accurate signature.\n",
      " |  \n",
      " |  ----------------------------------------------------------------------\n",
      " |  Data and other attributes defined here:\n",
      " |  \n",
      " |  __abstractmethods__ = frozenset()\n",
      " |  \n",
      " |  ----------------------------------------------------------------------\n",
      " |  Methods inherited from imblearn.base.SamplerMixin:\n",
      " |  \n",
      " |  fit(self, X, y)\n",
      " |      Check inputs and statistics of the sampler.\n",
      " |      \n",
      " |      You should use ``fit_resample`` in all cases.\n",
      " |      \n",
      " |      Parameters\n",
      " |      ----------\n",
      " |      X : {array-like, dataframe, sparse matrix} of shape                 (n_samples, n_features)\n",
      " |          Data array.\n",
      " |      \n",
      " |      y : array-like of shape (n_samples,)\n",
      " |          Target array.\n",
      " |      \n",
      " |      Returns\n",
      " |      -------\n",
      " |      self : object\n",
      " |          Return the instance itself.\n",
      " |  \n",
      " |  fit_resample(self, X, y)\n",
      " |      Resample the dataset.\n",
      " |      \n",
      " |      Parameters\n",
      " |      ----------\n",
      " |      X : {array-like, dataframe, sparse matrix} of shape                 (n_samples, n_features)\n",
      " |          Matrix containing the data which have to be sampled.\n",
      " |      \n",
      " |      y : array-like of shape (n_samples,)\n",
      " |          Corresponding label for each sample in X.\n",
      " |      \n",
      " |      Returns\n",
      " |      -------\n",
      " |      X_resampled : {array-like, dataframe, sparse matrix} of shape                 (n_samples_new, n_features)\n",
      " |          The array containing the resampled data.\n",
      " |      \n",
      " |      y_resampled : array-like of shape (n_samples_new,)\n",
      " |          The corresponding label of `X_resampled`.\n",
      " |  \n",
      " |  fit_sample = fit_resample(self, X, y)\n",
      " |  \n",
      " |  ----------------------------------------------------------------------\n",
      " |  Methods inherited from sklearn.base.BaseEstimator:\n",
      " |  \n",
      " |  __getstate__(self)\n",
      " |  \n",
      " |  __repr__(self, N_CHAR_MAX=700)\n",
      " |      Return repr(self).\n",
      " |  \n",
      " |  __setstate__(self, state)\n",
      " |  \n",
      " |  get_params(self, deep=True)\n",
      " |      Get parameters for this estimator.\n",
      " |      \n",
      " |      Parameters\n",
      " |      ----------\n",
      " |      deep : bool, default=True\n",
      " |          If True, will return the parameters for this estimator and\n",
      " |          contained subobjects that are estimators.\n",
      " |      \n",
      " |      Returns\n",
      " |      -------\n",
      " |      params : mapping of string to any\n",
      " |          Parameter names mapped to their values.\n",
      " |  \n",
      " |  set_params(self, **params)\n",
      " |      Set the parameters of this estimator.\n",
      " |      \n",
      " |      The method works on simple estimators as well as on nested objects\n",
      " |      (such as pipelines). The latter have parameters of the form\n",
      " |      ``<component>__<parameter>`` so that it's possible to update each\n",
      " |      component of a nested object.\n",
      " |      \n",
      " |      Parameters\n",
      " |      ----------\n",
      " |      **params : dict\n",
      " |          Estimator parameters.\n",
      " |      \n",
      " |      Returns\n",
      " |      -------\n",
      " |      self : object\n",
      " |          Estimator instance.\n",
      " |  \n",
      " |  ----------------------------------------------------------------------\n",
      " |  Data descriptors inherited from sklearn.base.BaseEstimator:\n",
      " |  \n",
      " |  __dict__\n",
      " |      dictionary for instance variables (if defined)\n",
      " |  \n",
      " |  __weakref__\n",
      " |      list of weak references to the object (if defined)\n",
      "\n"
     ]
    }
   ],
   "source": [
    "ClusterCentroids()"
   ]
  },
  {
   "cell_type": "code",
   "execution_count": 22,
   "metadata": {},
   "outputs": [],
   "source": [
    "data1 = data[(data['BotNet_Label'] == 'Normal') | (data['BotNet_Label'] == 'IRC')]"
   ]
  },
  {
   "cell_type": "code",
   "execution_count": 26,
   "metadata": {},
   "outputs": [],
   "source": [
    "data1.reset_index(drop=True, inplace=True)"
   ]
  },
  {
   "cell_type": "code",
   "execution_count": 36,
   "metadata": {},
   "outputs": [
    {
     "name": "stdout",
     "output_type": "stream",
     "text": [
      "We have class imbalance\n"
     ]
    }
   ],
   "source": [
    "mul = data1['BotNet_Label'].value_counts()[0] / data1['BotNet_Label'].value_counts()[1]\n",
    "if mul > 2:\n",
    "    print('We have class imbalance')"
   ]
  },
  {
   "cell_type": "code",
   "execution_count": 28,
   "metadata": {},
   "outputs": [],
   "source": [
    "# separate features from class variable\n",
    "y = data1['BotNet_Label']\n",
    "X = data1.drop('BotNet_Label', axis=1)\n",
    "\n",
    "cc = ClusterCentroids(sampling_strategy='majority',random_state=42)\n",
    "X_res, y_res = cc.fit_resample(X, y)\n",
    "\n",
    "\n",
    "#print('Resampled dataset shape %s' % Counter(y_res))"
   ]
  },
  {
   "cell_type": "code",
   "execution_count": 31,
   "metadata": {},
   "outputs": [
    {
     "data": {
      "text/plain": [
       "IRC       140\n",
       "Normal    140\n",
       "Name: BotNet_Label, dtype: int64"
      ]
     },
     "execution_count": 31,
     "metadata": {},
     "output_type": "execute_result"
    }
   ],
   "source": [
    "X_res['BotNet_Label'] = y_res\n",
    "X_res['BotNet_Label'].value_counts()"
   ]
  },
  {
   "cell_type": "code",
   "execution_count": null,
   "metadata": {},
   "outputs": [],
   "source": []
  }
 ],
 "metadata": {
  "kernelspec": {
   "display_name": "Python 3",
   "language": "python",
   "name": "python3"
  },
  "language_info": {
   "codemirror_mode": {
    "name": "ipython",
    "version": 3
   },
   "file_extension": ".py",
   "mimetype": "text/x-python",
   "name": "python",
   "nbconvert_exporter": "python",
   "pygments_lexer": "ipython3",
   "version": "3.7.6"
  }
 },
 "nbformat": 4,
 "nbformat_minor": 4
}
