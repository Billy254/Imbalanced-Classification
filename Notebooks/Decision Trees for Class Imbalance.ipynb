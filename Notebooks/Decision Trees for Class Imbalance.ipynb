{
 "cells": [
  {
   "cell_type": "markdown",
   "metadata": {},
   "source": [
    "## Decision Trees for Class Imbalance with Scikit-Learn\n",
    "\n",
    "Kaggle CreditCard Fraud Detection Data can be downloaded here:\n",
    "https://github.com/nsethi31/Kaggle-Data-Credit-Card-Fraud-Detection/blob/master/creditcard.csv?raw=true"
   ]
  },
  {
   "cell_type": "markdown",
   "metadata": {},
   "source": [
    "### How Decision Trees work:\n",
    "\n",
    "Part 1: https://www.youtube.com/watch?v=O__7lAqni7A\n",
    "    \n",
    "Part 2: https://www.youtube.com/watch?v=WpA-Xbw4z_A"
   ]
  },
  {
   "cell_type": "code",
   "execution_count": null,
   "metadata": {},
   "outputs": [],
   "source": [
    "%%time\n",
    "import pandas as pd\n",
    "data = pd.read_csv('creditcard.csv')"
   ]
  },
  {
   "cell_type": "code",
   "execution_count": null,
   "metadata": {},
   "outputs": [],
   "source": [
    "data.head()"
   ]
  },
  {
   "cell_type": "code",
   "execution_count": null,
   "metadata": {},
   "outputs": [],
   "source": [
    "data.shape"
   ]
  },
  {
   "cell_type": "code",
   "execution_count": null,
   "metadata": {},
   "outputs": [],
   "source": [
    "data['Class'].value_counts()"
   ]
  },
  {
   "cell_type": "code",
   "execution_count": null,
   "metadata": {},
   "outputs": [],
   "source": [
    "284315/492"
   ]
  },
  {
   "cell_type": "code",
   "execution_count": null,
   "metadata": {},
   "outputs": [],
   "source": [
    "%%time\n",
    "# Split data into train and test splits\n",
    "\n",
    "from sklearn.model_selection import train_test_split\n",
    "\n",
    "# retrieve numpy array\n",
    "data = data.values\n",
    "# split into input and output elements\n",
    "X, y = data[:, 1:-1], data[:, -1]\n",
    "\n",
    "X_train, X_test, y_train, y_test = train_test_split(\n",
    "    X, y, test_size=0.25, random_state=4992,stratify=y)"
   ]
  },
  {
   "cell_type": "code",
   "execution_count": null,
   "metadata": {},
   "outputs": [],
   "source": [
    "# Count how many unique values of each class\n",
    "\n",
    "import numpy as np\n",
    "unique, counts = np.unique(y_train, return_counts=True)\n",
    "print (np.asarray((unique, counts)).T)\n",
    "\n",
    "unique, counts = np.unique(y_test, return_counts=True)\n",
    "print (np.asarray((unique, counts)).T)"
   ]
  },
  {
   "cell_type": "markdown",
   "metadata": {},
   "source": [
    "### The class weighing can be defined multiple ways; for example:\n",
    "\n",
    "* Domain expertise, determined by talking to subject matter experts\n",
    "* Tuning, determined by a hyperparameter search such as a grid search\n",
    "* Heuristic, specified using a general best practice\n",
    "* A best practice for using the class weighting is to use the inverse of the class distribution present in the training dataset"
   ]
  },
  {
   "cell_type": "code",
   "execution_count": null,
   "metadata": {},
   "outputs": [],
   "source": [
    "# calculate heuristic class weighting\n",
    "from sklearn.utils.class_weight import compute_class_weight\n",
    "\n",
    "# calculate class weighting according to training data\n",
    "weighting = compute_class_weight('balanced', [0,1], y_train)\n",
    "print(weighting)"
   ]
  },
  {
   "cell_type": "markdown",
   "metadata": {},
   "source": [
    "### For a decision tree:\n",
    "* *Small Weight:* Less importance, lower impact on node purity.\n",
    "* *Large Weight:* More importance, higher impact on node purity."
   ]
  },
  {
   "cell_type": "code",
   "execution_count": null,
   "metadata": {},
   "outputs": [],
   "source": [
    "%%time\n",
    "from sklearn.tree import DecisionTreeClassifier\n",
    "from sklearn.metrics import roc_auc_score\n",
    "\n",
    "weights = {0:weighting[0], 1:weighting[1]} \n",
    "print(weights)\n",
    "# define model\n",
    "# try with class_weight=weights and class_weight=None\n",
    "#model = DecisionTreeClassifier()\n",
    "model = DecisionTreeClassifier(class_weight=weights)\n",
    "# fit a model\n",
    "model.fit(X_train, y_train)\n",
    "\n",
    "# predict probabilities\n",
    "probs = model.predict_proba(X_test)\n",
    "# keep probabilities for the positive outcome only\n",
    "pos_probs = probs[:, 1]\n",
    "\n",
    "auc = roc_auc_score(y_test, pos_probs)\n",
    "\n",
    "# summarize performance\n",
    "print(' ROC AUC = %.3f' % auc)"
   ]
  },
  {
   "cell_type": "code",
   "execution_count": null,
   "metadata": {},
   "outputs": [],
   "source": []
  },
  {
   "cell_type": "code",
   "execution_count": null,
   "metadata": {},
   "outputs": [],
   "source": [
    "%%time\n",
    "from sklearn.tree import DecisionTreeClassifier\n",
    "from sklearn.metrics import roc_auc_score\n",
    "\n",
    "weights = [\n",
    "        {0:weighting[0], 1:weighting[1]} ,\n",
    "    {0:0.7, 1:300} ,\n",
    "    {0:22, 1:105} ,\n",
    "    {0:50, 1:150} \n",
    "          ]\n",
    "for w in weights:\n",
    "    # define model\n",
    "    # try with class_weight=weights and class_weight=None\n",
    "    #model = DecisionTreeClassifier()\n",
    "    model = DecisionTreeClassifier(class_weight=w)\n",
    "    # fit a model\n",
    "    model.fit(X_train, y_train)\n",
    "\n",
    "    # predict probabilities\n",
    "    probs = model.predict_proba(X_test)\n",
    "    # keep probabilities for the positive outcome only\n",
    "    pos_probs = probs[:, 1]\n",
    "\n",
    "    auc = roc_auc_score(y_test, pos_probs)\n",
    "\n",
    "    # summarize performance\n",
    "    print(' ROC AUC = %.3f' % auc)"
   ]
  },
  {
   "cell_type": "code",
   "execution_count": null,
   "metadata": {},
   "outputs": [],
   "source": []
  }
 ],
 "metadata": {
  "kernelspec": {
   "display_name": "Python 3",
   "language": "python",
   "name": "python3"
  },
  "language_info": {
   "codemirror_mode": {
    "name": "ipython",
    "version": 3
   },
   "file_extension": ".py",
   "mimetype": "text/x-python",
   "name": "python",
   "nbconvert_exporter": "python",
   "pygments_lexer": "ipython3",
   "version": "3.7.6"
  }
 },
 "nbformat": 4,
 "nbformat_minor": 4
}
